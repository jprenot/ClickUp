{
 "cells": [
  {
   "cell_type": "code",
   "execution_count": 1,
   "id": "8ed369eb",
   "metadata": {},
   "outputs": [],
   "source": [
    "import numpy as np\n",
    "import pandas as pd\n",
    "import matplotlib.pyplot as plt"
   ]
  },
  {
   "cell_type": "markdown",
   "id": "fbf5cc6b",
   "metadata": {},
   "source": [
    "# Automation Project"
   ]
  },
  {
   "cell_type": "markdown",
   "id": "740c487a",
   "metadata": {},
   "source": [
    "## What's the data look like?"
   ]
  },
  {
   "cell_type": "code",
   "execution_count": 4,
   "id": "33d328ee",
   "metadata": {},
   "outputs": [],
   "source": [
    "df = pd.read_csv('analysis-mini-project.csv')"
   ]
  },
  {
   "cell_type": "code",
   "execution_count": 5,
   "id": "921de419",
   "metadata": {},
   "outputs": [
    {
     "data": {
      "text/html": [
       "<div>\n",
       "<style scoped>\n",
       "    .dataframe tbody tr th:only-of-type {\n",
       "        vertical-align: middle;\n",
       "    }\n",
       "\n",
       "    .dataframe tbody tr th {\n",
       "        vertical-align: top;\n",
       "    }\n",
       "\n",
       "    .dataframe thead th {\n",
       "        text-align: right;\n",
       "    }\n",
       "</style>\n",
       "<table border=\"1\" class=\"dataframe\">\n",
       "  <thead>\n",
       "    <tr style=\"text-align: right;\">\n",
       "      <th></th>\n",
       "      <th>automation_id</th>\n",
       "      <th>date_automation_created</th>\n",
       "      <th>trigger</th>\n",
       "      <th>action</th>\n",
       "      <th>automation_status</th>\n",
       "      <th>user_id</th>\n",
       "      <th>date_user_created</th>\n",
       "      <th>workspace_id</th>\n",
       "      <th>date_workspace_created</th>\n",
       "      <th>workspace_plan</th>\n",
       "    </tr>\n",
       "  </thead>\n",
       "  <tbody>\n",
       "    <tr>\n",
       "      <th>0</th>\n",
       "      <td>f685875a-124c-43ca-b929-0df11a7dba99</td>\n",
       "      <td>2020-07-14 12:15:48+00</td>\n",
       "      <td>status</td>\n",
       "      <td>comment</td>\n",
       "      <td>True</td>\n",
       "      <td>11461344</td>\n",
       "      <td>2020-07-14 10:21:18+00</td>\n",
       "      <td>11148888</td>\n",
       "      <td>2020-07-14 10:22:31+00</td>\n",
       "      <td>Free</td>\n",
       "    </tr>\n",
       "    <tr>\n",
       "      <th>1</th>\n",
       "      <td>1c4f6365-3925-4a2a-9f91-6eca53246298</td>\n",
       "      <td>2020-07-12 08:20:45+00</td>\n",
       "      <td>unblocked</td>\n",
       "      <td>status</td>\n",
       "      <td>True</td>\n",
       "      <td>13967127</td>\n",
       "      <td>2020-06-16 15:01:59+00</td>\n",
       "      <td>7675332</td>\n",
       "      <td>2020-06-16 15:04:18+00</td>\n",
       "      <td>Business</td>\n",
       "    </tr>\n",
       "    <tr>\n",
       "      <th>2</th>\n",
       "      <td>2b290c50-8ba9-4feb-a5d3-5038f0d189ca</td>\n",
       "      <td>2020-07-14 12:20:44+00</td>\n",
       "      <td>status</td>\n",
       "      <td>assignee</td>\n",
       "      <td>True</td>\n",
       "      <td>13934415</td>\n",
       "      <td>2020-06-07 09:19:49+00</td>\n",
       "      <td>7658208</td>\n",
       "      <td>2020-06-07 09:25:29+00</td>\n",
       "      <td>Professional</td>\n",
       "    </tr>\n",
       "    <tr>\n",
       "      <th>3</th>\n",
       "      <td>864b0b76-718b-40e9-8819-a9b38830ca7c</td>\n",
       "      <td>2020-06-19 07:53:44+00</td>\n",
       "      <td>status</td>\n",
       "      <td>create_task</td>\n",
       "      <td>True</td>\n",
       "      <td>13975383</td>\n",
       "      <td>2020-06-18 17:39:32+00</td>\n",
       "      <td>7680045</td>\n",
       "      <td>2020-06-18 17:48:07+00</td>\n",
       "      <td>Professional</td>\n",
       "    </tr>\n",
       "    <tr>\n",
       "      <th>4</th>\n",
       "      <td>e42e4bb1-f59f-446e-a34b-437eb1ecb481</td>\n",
       "      <td>2020-07-28 18:51:30+00</td>\n",
       "      <td>task_created</td>\n",
       "      <td>custom_field</td>\n",
       "      <td>True</td>\n",
       "      <td>19066443</td>\n",
       "      <td>2020-06-04 21:23:23+00</td>\n",
       "      <td>7163400</td>\n",
       "      <td>2020-06-04 21:27:50+00</td>\n",
       "      <td>Business</td>\n",
       "    </tr>\n",
       "  </tbody>\n",
       "</table>\n",
       "</div>"
      ],
      "text/plain": [
       "                          automation_id date_automation_created       trigger  \\\n",
       "0  f685875a-124c-43ca-b929-0df11a7dba99  2020-07-14 12:15:48+00        status   \n",
       "1  1c4f6365-3925-4a2a-9f91-6eca53246298  2020-07-12 08:20:45+00     unblocked   \n",
       "2  2b290c50-8ba9-4feb-a5d3-5038f0d189ca  2020-07-14 12:20:44+00        status   \n",
       "3  864b0b76-718b-40e9-8819-a9b38830ca7c  2020-06-19 07:53:44+00        status   \n",
       "4  e42e4bb1-f59f-446e-a34b-437eb1ecb481  2020-07-28 18:51:30+00  task_created   \n",
       "\n",
       "         action  automation_status   user_id       date_user_created  \\\n",
       "0       comment               True  11461344  2020-07-14 10:21:18+00   \n",
       "1        status               True  13967127  2020-06-16 15:01:59+00   \n",
       "2      assignee               True  13934415  2020-06-07 09:19:49+00   \n",
       "3   create_task               True  13975383  2020-06-18 17:39:32+00   \n",
       "4  custom_field               True  19066443  2020-06-04 21:23:23+00   \n",
       "\n",
       "   workspace_id  date_workspace_created workspace_plan  \n",
       "0      11148888  2020-07-14 10:22:31+00           Free  \n",
       "1       7675332  2020-06-16 15:04:18+00       Business  \n",
       "2       7658208  2020-06-07 09:25:29+00   Professional  \n",
       "3       7680045  2020-06-18 17:48:07+00   Professional  \n",
       "4       7163400  2020-06-04 21:27:50+00       Business  "
      ]
     },
     "execution_count": 5,
     "metadata": {},
     "output_type": "execute_result"
    }
   ],
   "source": [
    "df.head()"
   ]
  },
  {
   "cell_type": "code",
   "execution_count": 6,
   "id": "f59a0158",
   "metadata": {},
   "outputs": [
    {
     "data": {
      "text/plain": [
       "280600"
      ]
     },
     "execution_count": 6,
     "metadata": {},
     "output_type": "execute_result"
    }
   ],
   "source": [
    "df.size"
   ]
  },
  {
   "cell_type": "code",
   "execution_count": 185,
   "id": "2d69e3d5",
   "metadata": {},
   "outputs": [
    {
     "data": {
      "text/plain": [
       "4482"
      ]
     },
     "execution_count": 185,
     "metadata": {},
     "output_type": "execute_result"
    }
   ],
   "source": [
    "df.user_id.nunique()"
   ]
  },
  {
   "cell_type": "code",
   "execution_count": 226,
   "id": "77cbebab",
   "metadata": {},
   "outputs": [],
   "source": [
    "# adding column for analysis later\n",
    "df['time_to_first_auto'] = pd.to_datetime(df['date_automation_created'])-pd.to_datetime(df['date_workspace_created'])"
   ]
  },
  {
   "cell_type": "code",
   "execution_count": 14,
   "id": "2cbb4513",
   "metadata": {},
   "outputs": [],
   "source": [
    "grouped_user = df.groupby('user_id')"
   ]
  },
  {
   "cell_type": "code",
   "execution_count": 16,
   "id": "457428fa",
   "metadata": {},
   "outputs": [
    {
     "data": {
      "text/plain": [
       "4482"
      ]
     },
     "execution_count": 16,
     "metadata": {},
     "output_type": "execute_result"
    }
   ],
   "source": [
    "df['user_id'].nunique()"
   ]
  },
  {
   "cell_type": "markdown",
   "id": "12c8cd8d",
   "metadata": {},
   "source": [
    "# Questions to answer:"
   ]
  },
  {
   "cell_type": "markdown",
   "id": "ae72a669",
   "metadata": {},
   "source": [
    "## How common is it for users to create automations?  "
   ]
  },
  {
   "cell_type": "code",
   "execution_count": 21,
   "id": "6046cc94",
   "metadata": {},
   "outputs": [],
   "source": [
    "first_auto = grouped_user['date_automation_created'].min()"
   ]
  },
  {
   "cell_type": "code",
   "execution_count": 70,
   "id": "3d45cc3c",
   "metadata": {},
   "outputs": [
    {
     "data": {
      "text/plain": [
       "count    4482.000000\n",
       "mean        6.260598\n",
       "std        21.223014\n",
       "min         1.000000\n",
       "25%         1.000000\n",
       "50%         2.000000\n",
       "75%         5.000000\n",
       "max       700.000000\n",
       "Name: automation_id, dtype: float64"
      ]
     },
     "execution_count": 70,
     "metadata": {},
     "output_type": "execute_result"
    }
   ],
   "source": [
    "users = grouped_user['automation_id'].count().describe()\n",
    "users"
   ]
  },
  {
   "cell_type": "markdown",
   "id": "1b6b4299",
   "metadata": {},
   "source": [
    "If we're assuming there are 220,000 users, then only 2% of them have ever created an automation. If it turns out that using automations drives conversion from the free tier to a paid tier, we should probably focus some effort on getting people on the free tier to start using automations. "
   ]
  },
  {
   "cell_type": "markdown",
   "id": "b12e4fa6",
   "metadata": {},
   "source": [
    "The vast majority (88%) of users who do use automations create between 1 and 10 automations. Only 24 users have created more than 100 automations, and the max amount of automations created is 700. The 75th %ile of users are creating only 5 automations. "
   ]
  },
  {
   "cell_type": "markdown",
   "id": "5504e5cd",
   "metadata": {},
   "source": [
    "## Do most workspaces use automations?"
   ]
  },
  {
   "cell_type": "code",
   "execution_count": 71,
   "id": "34fe9853",
   "metadata": {},
   "outputs": [
    {
     "data": {
      "text/plain": [
       "count    4198.000000\n",
       "mean        6.684135\n",
       "std        24.512892\n",
       "min         1.000000\n",
       "25%         1.000000\n",
       "50%         2.000000\n",
       "75%         5.000000\n",
       "max       833.000000\n",
       "Name: automation_id, dtype: float64"
      ]
     },
     "execution_count": 71,
     "metadata": {},
     "output_type": "execute_result"
    }
   ],
   "source": [
    "grouped_work = df.groupby('workspace_id')\n",
    "grouped_work['automation_id'].count().describe()"
   ]
  },
  {
   "cell_type": "markdown",
   "id": "c051838a",
   "metadata": {},
   "source": [
    "If we're assuming there are 150,000 workspaces, then only 2.8% of them are using automations. Again, the vast majority of them have between 1 and 10 automations (see plot below)."
   ]
  },
  {
   "cell_type": "code",
   "execution_count": 72,
   "id": "ff68a164",
   "metadata": {},
   "outputs": [
    {
     "data": {
      "text/plain": [
       "<AxesSubplot:ylabel='Frequency'>"
      ]
     },
     "execution_count": 72,
     "metadata": {},
     "output_type": "execute_result"
    },
    {
     "data": {
      "image/png": "[encoded data removed]",
      "text/plain": [
       "<Figure size 432x288 with 1 Axes>"
      ]
     },
     "metadata": {
      "needs_background": "light"
     },
     "output_type": "display_data"
    }
   ],
   "source": [
    "grouped_work['automation_id'].count().plot(kind='hist', bins = 80)"
   ]
  },
  {
   "cell_type": "code",
   "execution_count": 228,
   "id": "be2c0f11",
   "metadata": {},
   "outputs": [
    {
     "data": {
      "text/plain": [
       "False    3669\n",
       "True      529\n",
       "Name: automation_id, dtype: int64"
      ]
     },
     "execution_count": 228,
     "metadata": {},
     "output_type": "execute_result"
    }
   ],
   "source": [
    "more_10 = grouped_work['automation_id'].count()>10\n",
    "more_10.value_counts()"
   ]
  },
  {
   "cell_type": "markdown",
   "id": "095521f8",
   "metadata": {},
   "source": [
    "The numbers for workspaces are predictably similar, with 3669/4198 workspaces having fewer than 10 automations, and the median number of automations per workspace being 2. The max number of automations per workspace is 833, but only 24 of our 4198 have more than 100. "
   ]
  },
  {
   "cell_type": "code",
   "execution_count": 186,
   "id": "904e11ff",
   "metadata": {},
   "outputs": [
    {
     "data": {
      "text/plain": [
       "831"
      ]
     },
     "execution_count": 186,
     "metadata": {},
     "output_type": "execute_result"
    }
   ],
   "source": [
    "grouped_work['automation_status'].value_counts().max()\n",
    "# the account that created 833 automations has only deactivated 2 of them"
   ]
  },
  {
   "cell_type": "markdown",
   "id": "5b460239",
   "metadata": {},
   "source": [
    "## Once people find out about automations, do they like them?"
   ]
  },
  {
   "cell_type": "code",
   "execution_count": 96,
   "id": "955cf8e3",
   "metadata": {},
   "outputs": [
    {
     "data": {
      "text/plain": [
       "4014"
      ]
     },
     "execution_count": 96,
     "metadata": {},
     "output_type": "execute_result"
    }
   ],
   "source": [
    "df[df['automation_status']==True]['workspace_id'].nunique()"
   ]
  },
  {
   "cell_type": "code",
   "execution_count": 94,
   "id": "544abd96",
   "metadata": {},
   "outputs": [
    {
     "data": {
      "text/plain": [
       "4198"
      ]
     },
     "execution_count": 94,
     "metadata": {},
     "output_type": "execute_result"
    }
   ],
   "source": [
    "df['workspace_id'].nunique()"
   ]
  },
  {
   "cell_type": "markdown",
   "id": "7a43c94c",
   "metadata": {},
   "source": [
    "4014 of our 4198 workspaces have active automations - that seems like a pretty good rate of adoption, ie. users who begin using automations tend to continue using them.  "
   ]
  },
  {
   "cell_type": "markdown",
   "id": "fb593483",
   "metadata": {},
   "source": [
    "## What triggers and actions are most common?"
   ]
  },
  {
   "cell_type": "code",
   "execution_count": 98,
   "id": "dc40a26e",
   "metadata": {},
   "outputs": [
    {
     "data": {
      "text/plain": [
       "task_appeared            8658\n",
       "status                   6915\n",
       "task_created             3781\n",
       "custom_field             2422\n",
       "on_due_date              1694\n",
       "subcategory_id            656\n",
       "on_start_date             540\n",
       "subtasks_resolved         507\n",
       "checklists_resolved       277\n",
       "unblocked                 271\n",
       "assignee                  185\n",
       "due_date                  153\n",
       "priority                  110\n",
       "time_spent                 57\n",
       "start_date                 53\n",
       "pr_merged                  39\n",
       "pr_linked                  18\n",
       "branch_linked              18\n",
       "assignee_removed           11\n",
       "pr_change_requested        11\n",
       "webhook                     8\n",
       "linked_task                 3\n",
       "error_event_frequency       2\n",
       "commit_linked               2\n",
       "on_commit                   2\n",
       "exception                   1\n",
       "project_spiking             1\n",
       "branch_merged               1\n",
       "Name: trigger, dtype: int64"
      ]
     },
     "execution_count": 98,
     "metadata": {},
     "output_type": "execute_result"
    }
   ],
   "source": [
    "df[df['automation_status']==True]['trigger'].value_counts()"
   ]
  },
  {
   "cell_type": "code",
   "execution_count": 99,
   "id": "fe8c3be4",
   "metadata": {},
   "outputs": [
    {
     "data": {
      "text/plain": [
       "assignee            8995\n",
       "status              3834\n",
       "custom_field        3010\n",
       "add_follower        2075\n",
       "subcategory         1752\n",
       "due_date            1149\n",
       "comment             1040\n",
       "priority             930\n",
       "change_tags          885\n",
       "apply_template       562\n",
       "create_task          551\n",
       "start_date           405\n",
       "copy                 393\n",
       "change_followers     327\n",
       "archive              182\n",
       "webhook               90\n",
       "time_spent            66\n",
       "create_subtask        54\n",
       "delete                35\n",
       "time_estimate         23\n",
       "send_sms              18\n",
       "create_issue          14\n",
       "add_subcategory        6\n",
       "Name: action, dtype: int64"
      ]
     },
     "execution_count": 99,
     "metadata": {},
     "output_type": "execute_result"
    }
   ],
   "source": [
    "df[df['automation_status']==True]['action'].value_counts()"
   ]
  },
  {
   "cell_type": "markdown",
   "id": "b8a4365f",
   "metadata": {},
   "source": [
    "Most common triggers: task_appeared, status, task_created, custom_field, on_due_date.  "
   ]
  },
  {
   "cell_type": "markdown",
   "id": "f640b8c7",
   "metadata": {},
   "source": [
    "Most common actions: assignee, status, custom_field, add_follower, subcategory. Limited to automations that are active."
   ]
  },
  {
   "cell_type": "markdown",
   "id": "ca6bbf25",
   "metadata": {},
   "source": [
    "## After creating a workspace, how long does it take people to create an automation?"
   ]
  },
  {
   "cell_type": "code",
   "execution_count": 115,
   "id": "6be43d06",
   "metadata": {},
   "outputs": [
    {
     "data": {
      "text/plain": [
       "count                          4014\n",
       "mean      9 days 21:28:40.373442949\n",
       "std      14 days 21:09:10.882504878\n",
       "min                 0 days 00:00:36\n",
       "25%          0 days 05:56:47.750000\n",
       "50%          3 days 01:15:38.500000\n",
       "75%         12 days 23:25:34.500000\n",
       "max                87 days 15:01:50\n",
       "Name: time_to_first_auto, dtype: object"
      ]
     },
     "execution_count": 115,
     "metadata": {},
     "output_type": "execute_result"
    }
   ],
   "source": [
    "df[df['automation_status']==True]['time_to_first_auto'].groupby(df['workspace_id']).min().describe()"
   ]
  },
  {
   "cell_type": "markdown",
   "id": "476ada3e",
   "metadata": {},
   "source": [
    "In a typical workspace that uses automations, the first automation in the workspace is created within about the first week, with half of users getting one up and running in 3 days. The longest it's taken anyone to create an automation is 87 days, but the majority of workspaces have automations up and running within the first 2 weeks. Limited to workspaces that have an active automation. "
   ]
  },
  {
   "cell_type": "markdown",
   "id": "78045bc8",
   "metadata": {},
   "source": [
    "## Do people who use automations pay for ClickUp?"
   ]
  },
  {
   "cell_type": "code",
   "execution_count": 169,
   "id": "142e30b8",
   "metadata": {},
   "outputs": [],
   "source": [
    "plan_counts = df[df['automation_status']==True]['workspace_plan'].groupby(df['workspace_id']).value_counts()\n",
    "plan_counts = pd.DataFrame(plan_counts)"
   ]
  },
  {
   "cell_type": "code",
   "execution_count": 173,
   "id": "3c137a5c",
   "metadata": {},
   "outputs": [
    {
     "data": {
      "text/plain": [
       "Free            2379\n",
       "Business         878\n",
       "Professional     727\n",
       "Enterprise        30\n",
       "Name: workspace_plan, dtype: int64"
      ]
     },
     "execution_count": 173,
     "metadata": {},
     "output_type": "execute_result"
    }
   ],
   "source": [
    "plan_counts = plan_counts.reset_index(level='workspace_id')\n",
    "plan_counts.index.value_counts()"
   ]
  },
  {
   "cell_type": "markdown",
   "id": "3f0c5c9e",
   "metadata": {},
   "source": [
    "Out of 4014 workspaces with automations, 2379 (59%) are on the free plan, and the remaining 41% are on paid tiers, with 30 workspaces (<1%) on the enterprise tier. "
   ]
  },
  {
   "cell_type": "markdown",
   "id": "db2b3e7f",
   "metadata": {},
   "source": [
    "I'd be interested to see how this compares to the remaining ~145000 workspaces: what proportion of those are free vs paid?"
   ]
  },
  {
   "cell_type": "markdown",
   "id": "569e3188",
   "metadata": {},
   "source": [
    "## Tier Breakdown"
   ]
  },
  {
   "cell_type": "code",
   "execution_count": 194,
   "id": "57bcc93c",
   "metadata": {},
   "outputs": [
    {
     "data": {
      "text/plain": [
       "count    2610.000000\n",
       "mean        3.182759\n",
       "std         6.444617\n",
       "min         1.000000\n",
       "25%         1.000000\n",
       "50%         1.000000\n",
       "75%         3.000000\n",
       "max       185.000000\n",
       "Name: automation_status, dtype: float64"
      ]
     },
     "execution_count": 194,
     "metadata": {},
     "output_type": "execute_result"
    }
   ],
   "source": [
    "df[df['workspace_plan']=='Free']['automation_status'].groupby(df['workspace_id']).value_counts().describe()"
   ]
  },
  {
   "cell_type": "markdown",
   "id": "f825217a",
   "metadata": {},
   "source": [
    "The typical free workspace with automations is using about 1-3 automations, with the most anyone is using on the free plan being 185. Below are the most common triggers and actions."
   ]
  },
  {
   "cell_type": "code",
   "execution_count": 216,
   "id": "223d1824",
   "metadata": {},
   "outputs": [
    {
     "data": {
      "text/plain": [
       "task_appeared    3760\n",
       "status           1920\n",
       "task_created      743\n",
       "on_due_date       614\n",
       "custom_field      360\n",
       "Name: trigger, dtype: int64"
      ]
     },
     "execution_count": 216,
     "metadata": {},
     "output_type": "execute_result"
    }
   ],
   "source": [
    "df[df['workspace_plan']=='Free']['trigger'].value_counts().nlargest(5)"
   ]
  },
  {
   "cell_type": "code",
   "execution_count": 217,
   "id": "e36ff75e",
   "metadata": {},
   "outputs": [
    {
     "data": {
      "text/plain": [
       "assignee        3419\n",
       "status          1197\n",
       "add_follower     933\n",
       "subcategory      572\n",
       "priority         437\n",
       "Name: action, dtype: int64"
      ]
     },
     "execution_count": 217,
     "metadata": {},
     "output_type": "execute_result"
    }
   ],
   "source": [
    "df[df['workspace_plan']=='Free']['action'].value_counts().nlargest(5)"
   ]
  },
  {
   "cell_type": "code",
   "execution_count": 206,
   "id": "5aa96a99",
   "metadata": {},
   "outputs": [
    {
     "data": {
      "text/plain": [
       "count    1103.000000\n",
       "mean       12.058930\n",
       "std        36.955007\n",
       "min         1.000000\n",
       "25%         1.000000\n",
       "50%         3.000000\n",
       "75%        10.000000\n",
       "max       831.000000\n",
       "Name: automation_status, dtype: float64"
      ]
     },
     "execution_count": 206,
     "metadata": {},
     "output_type": "execute_result"
    }
   ],
   "source": [
    "df[df['workspace_plan']=='Business']['automation_status'].groupby(df['workspace_id']).value_counts().describe()"
   ]
  },
  {
   "cell_type": "markdown",
   "id": "935c8dbf",
   "metadata": {},
   "source": [
    "The typical business workspace has between 1 and 10 automations. The most anyone is using on the business tier is 831. Most common triggers and actions are below."
   ]
  },
  {
   "cell_type": "code",
   "execution_count": 218,
   "id": "0a30a659",
   "metadata": {},
   "outputs": [
    {
     "data": {
      "text/plain": [
       "status           3956\n",
       "task_appeared    2972\n",
       "task_created     2274\n",
       "custom_field     1292\n",
       "on_due_date      1149\n",
       "Name: trigger, dtype: int64"
      ]
     },
     "execution_count": 218,
     "metadata": {},
     "output_type": "execute_result"
    }
   ],
   "source": [
    "df[df['workspace_plan']=='Business']['trigger'].value_counts().nlargest(5)"
   ]
  },
  {
   "cell_type": "code",
   "execution_count": 219,
   "id": "13b00d23",
   "metadata": {},
   "outputs": [
    {
     "data": {
      "text/plain": [
       "assignee        3491\n",
       "status          2353\n",
       "custom_field    1651\n",
       "comment          894\n",
       "due_date         822\n",
       "Name: action, dtype: int64"
      ]
     },
     "execution_count": 219,
     "metadata": {},
     "output_type": "execute_result"
    }
   ],
   "source": [
    "df[df['workspace_plan']=='Business']['action'].value_counts().nlargest(5)"
   ]
  },
  {
   "cell_type": "code",
   "execution_count": 209,
   "id": "4c3693c5",
   "metadata": {},
   "outputs": [
    {
     "data": {
      "text/plain": [
       "count    853.000000\n",
       "mean       6.348183\n",
       "std       14.829294\n",
       "min        1.000000\n",
       "25%        1.000000\n",
       "50%        2.000000\n",
       "75%        5.000000\n",
       "max      220.000000\n",
       "Name: automation_status, dtype: float64"
      ]
     },
     "execution_count": 209,
     "metadata": {},
     "output_type": "execute_result"
    }
   ],
   "source": [
    "df[df['workspace_plan']=='Professional']['automation_status'].groupby(df['workspace_id']).value_counts().describe()"
   ]
  },
  {
   "cell_type": "markdown",
   "id": "48b6bc4f",
   "metadata": {},
   "source": [
    "The typical professional workspace has between 1 and 5 automations, and the most anyone is using on this tier is 220. "
   ]
  },
  {
   "cell_type": "code",
   "execution_count": 220,
   "id": "4e9727ed",
   "metadata": {},
   "outputs": [
    {
     "data": {
      "text/plain": [
       "task_appeared    1875\n",
       "status           1476\n",
       "task_created      595\n",
       "custom_field      499\n",
       "on_due_date       311\n",
       "Name: trigger, dtype: int64"
      ]
     },
     "execution_count": 220,
     "metadata": {},
     "output_type": "execute_result"
    }
   ],
   "source": [
    "df[df['workspace_plan']=='Professional']['trigger'].value_counts().nlargest(5)"
   ]
  },
  {
   "cell_type": "code",
   "execution_count": 221,
   "id": "054573d4",
   "metadata": {},
   "outputs": [
    {
     "data": {
      "text/plain": [
       "assignee        2169\n",
       "status           806\n",
       "subcategory      497\n",
       "custom_field     437\n",
       "add_follower     357\n",
       "Name: action, dtype: int64"
      ]
     },
     "execution_count": 221,
     "metadata": {},
     "output_type": "execute_result"
    }
   ],
   "source": [
    "df[df['workspace_plan']=='Professional']['action'].value_counts().nlargest(5)"
   ]
  },
  {
   "cell_type": "code",
   "execution_count": 213,
   "id": "81ca4a02",
   "metadata": {},
   "outputs": [
    {
     "data": {
      "text/plain": [
       "count     36.000000\n",
       "mean      28.805556\n",
       "std      128.464519\n",
       "min        1.000000\n",
       "25%        1.750000\n",
       "50%        4.000000\n",
       "75%        8.000000\n",
       "max      774.000000\n",
       "Name: automation_status, dtype: float64"
      ]
     },
     "execution_count": 213,
     "metadata": {},
     "output_type": "execute_result"
    }
   ],
   "source": [
    "df[df['workspace_plan']=='Enterprise']['automation_status'].groupby(df['workspace_id']).value_counts().describe()"
   ]
  },
  {
   "cell_type": "markdown",
   "id": "6d818268",
   "metadata": {},
   "source": [
    "Finally, the typical enterprise workspace has between 2 and 8 automations, with the max being 774. \n"
   ]
  },
  {
   "cell_type": "code",
   "execution_count": 222,
   "id": "763dfbc4",
   "metadata": {},
   "outputs": [
    {
     "data": {
      "text/plain": [
       "task_created     434\n",
       "custom_field     399\n",
       "task_appeared     70\n",
       "status            58\n",
       "on_due_date       42\n",
       "Name: trigger, dtype: int64"
      ]
     },
     "execution_count": 222,
     "metadata": {},
     "output_type": "execute_result"
    }
   ],
   "source": [
    "df[df['workspace_plan']=='Enterprise']['trigger'].value_counts().nlargest(5)"
   ]
  },
  {
   "cell_type": "code",
   "execution_count": 223,
   "id": "1c1df70c",
   "metadata": {},
   "outputs": [
    {
     "data": {
      "text/plain": [
       "custom_field    789\n",
       "assignee         84\n",
       "status           46\n",
       "add_follower     32\n",
       "priority         22\n",
       "Name: action, dtype: int64"
      ]
     },
     "execution_count": 223,
     "metadata": {},
     "output_type": "execute_result"
    }
   ],
   "source": [
    "df[df['workspace_plan']=='Enterprise']['action'].value_counts().nlargest(5)"
   ]
  },
  {
   "cell_type": "markdown",
   "id": "83feaa95",
   "metadata": {},
   "source": [
    "Takeaway: Enterprise and Professional users more frequently use the \"custom_field\" triggers and actions, but aside from that the types of usage are very similar across tiers. The amount of usage is also very similar across tiers: most workspaces have between 1 and 10 automations. This seems to indicate that at every level, there is definitely some value add for automations - everyone can automate the same basic things. Using the task triggers and the assignee and status filters is something that every ClickUp user can (and probably should!) do. Maybe tutorials, examples, or demonstrations would help drive more adoption of this feature. "
   ]
  },
  {
   "cell_type": "markdown",
   "id": "ca695240",
   "metadata": {},
   "source": []
  }
 ],
 "metadata": {
  "kernelspec": {
   "display_name": "Python 3",
   "language": "python",
   "name": "python3"
  },
  "language_info": {
   "codemirror_mode": {
    "name": "ipython",
    "version": 3
   },
   "file_extension": ".py",
   "mimetype": "text/x-python",
   "name": "python",
   "nbconvert_exporter": "python",
   "pygments_lexer": "ipython3",
   "version": "3.6.13"
  }
 },
 "nbformat": 4,
 "nbformat_minor": 5
}
